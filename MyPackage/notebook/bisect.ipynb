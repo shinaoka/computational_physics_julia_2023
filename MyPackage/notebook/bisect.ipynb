{
 "cells": [
  {
   "cell_type": "code",
   "execution_count": null,
   "metadata": {},
   "outputs": [],
   "source": [
    "# Bisection method for root finding\n",
    "function bisect(f, a::Float64, b::Float64, tol::Float64 = 1e-10)::Float64\n",
    "    if f(a) * f(b) > 0\n",
    "        error(\"f(a) and f(b) must have opposite signs\")\n",
    "    end\n",
    "\n",
    "    while abs(a - b) > tol\n",
    "        c = (a + b) / 2\n",
    "        if f(a) * f(c) < 0\n",
    "            b = c\n",
    "        else\n",
    "            a = c\n",
    "        end\n",
    "    end\n",
    "\n",
    "    return (a + b)/2\n",
    "end"
   ]
  },
  {
   "cell_type": "code",
   "execution_count": null,
   "metadata": {},
   "outputs": [],
   "source": [
    "using Test"
   ]
  },
  {
   "cell_type": "code",
   "execution_count": null,
   "metadata": {},
   "outputs": [],
   "source": [
    "tol = 1e-12\n",
    "\n",
    "f(x) = x - 1.0\n",
    "# atol = aboslute tolerance\n",
    "@test isapprox(bisect(f, 0.0, 3.0, tol), 1.0, atol=tol)\n",
    "\n",
    "f(x) = x^2 - 2.0\n",
    "@test isapprox(bisect(f, 0.0, 3.0, tol), sqrt(2.0), atol=tol)"
   ]
  },
  {
   "cell_type": "code",
   "execution_count": null,
   "metadata": {},
   "outputs": [],
   "source": [
    "#@inferred(bisect(f, 0.0, 3.0, tol))"
   ]
  },
  {
   "cell_type": "code",
   "execution_count": null,
   "metadata": {},
   "outputs": [],
   "source": []
  }
 ],
 "metadata": {
  "kernelspec": {
   "display_name": "Julia 1.9.0",
   "language": "julia",
   "name": "julia-1.9"
  },
  "language_info": {
   "file_extension": ".jl",
   "mimetype": "application/julia",
   "name": "julia",
   "version": "1.9.0"
  },
  "orig_nbformat": 4
 },
 "nbformat": 4,
 "nbformat_minor": 2
}
